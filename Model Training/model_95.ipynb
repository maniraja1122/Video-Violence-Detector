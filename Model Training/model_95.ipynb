{
  "cells": [
    {
      "cell_type": "markdown",
      "metadata": {
        "id": "4g65OZyN8_Kx"
      },
      "source": []
    },
    {
      "cell_type": "code",
      "execution_count": 3,
      "metadata": {
        "colab": {
          "base_uri": "https://localhost:8080/"
        },
        "id": "PE3_3UBNhtto",
        "outputId": "2af4fb0c-185d-4893-eef1-5c68fa2cf9d0"
      },
      "outputs": [
        {
          "output_type": "stream",
          "name": "stdout",
          "text": [
            "Found 11073 files belonging to 2 classes.\n",
            "Using 8859 files for training.\n",
            "Found 11073 files belonging to 2 classes.\n",
            "Using 2214 files for validation.\n",
            "Epoch 1/50\n",
            "277/277 [==============================] - 2616s 9s/step - loss: 0.5012 - accuracy: 0.7432 - val_loss: 0.5022 - val_accuracy: 0.7823\n",
            "Epoch 2/50\n",
            "277/277 [==============================] - 173s 621ms/step - loss: 0.2742 - accuracy: 0.8954 - val_loss: 0.2155 - val_accuracy: 0.9097\n",
            "Epoch 3/50\n",
            "277/277 [==============================] - 181s 651ms/step - loss: 0.1906 - accuracy: 0.9309 - val_loss: 0.1697 - val_accuracy: 0.9304\n",
            "Epoch 4/50\n",
            "277/277 [==============================] - 172s 620ms/step - loss: 0.1376 - accuracy: 0.9513 - val_loss: 0.1647 - val_accuracy: 0.9327\n",
            "Epoch 5/50\n",
            "277/277 [==============================] - 172s 620ms/step - loss: 0.1083 - accuracy: 0.9631 - val_loss: 0.1592 - val_accuracy: 0.9422\n",
            "Epoch 6/50\n",
            "277/277 [==============================] - 173s 623ms/step - loss: 0.0829 - accuracy: 0.9732 - val_loss: 0.1345 - val_accuracy: 0.9490\n",
            "Epoch 7/50\n",
            "277/277 [==============================] - 177s 639ms/step - loss: 0.0622 - accuracy: 0.9792 - val_loss: 0.2727 - val_accuracy: 0.9119\n",
            "Epoch 8/50\n",
            "277/277 [==============================] - 172s 619ms/step - loss: 0.0605 - accuracy: 0.9813 - val_loss: 0.1373 - val_accuracy: 0.9539\n",
            "Epoch 9/50\n",
            "277/277 [==============================] - 182s 653ms/step - loss: 0.0401 - accuracy: 0.9872 - val_loss: 0.1384 - val_accuracy: 0.9557\n",
            "Epoch 10/50\n",
            "277/277 [==============================] - 170s 612ms/step - loss: 0.0386 - accuracy: 0.9880 - val_loss: 0.1656 - val_accuracy: 0.9548\n",
            "Epoch 11/50\n",
            "277/277 [==============================] - 178s 641ms/step - loss: 0.0322 - accuracy: 0.9901 - val_loss: 0.1739 - val_accuracy: 0.9499\n",
            "Epoch 12/50\n",
            "277/277 [==============================] - 171s 615ms/step - loss: 0.0272 - accuracy: 0.9919 - val_loss: 0.1793 - val_accuracy: 0.9521\n",
            "Epoch 13/50\n",
            "277/277 [==============================] - 171s 615ms/step - loss: 0.0212 - accuracy: 0.9937 - val_loss: 0.1751 - val_accuracy: 0.9512\n",
            "Epoch 14/50\n",
            "277/277 [==============================] - 178s 640ms/step - loss: 0.0184 - accuracy: 0.9942 - val_loss: 0.1672 - val_accuracy: 0.9517\n"
          ]
        },
        {
          "output_type": "execute_result",
          "data": {
            "text/plain": [
              "<keras.src.callbacks.History at 0x7896ecd1e500>"
            ]
          },
          "metadata": {},
          "execution_count": 3
        }
      ],
      "source": [
        "import tensorflow as tf\n",
        "from tensorflow import keras\n",
        "import numpy as np\n",
        "from keras.applications.vgg16 import VGG16\n",
        "\n",
        "data_dir = \"drive/MyDrive/new_violence\"\n",
        "im_size = 416\n",
        "chunk_size = 32\n",
        "# Define Model\n",
        "def get_model():\n",
        "  base_model = VGG16(input_shape = (im_size, im_size, 3), # Shape of our images\n",
        "  include_top = False, # Leave out the last fully connected layer\n",
        "  weights = 'imagenet')\n",
        "  for layer in base_model.layers:\n",
        "    layer.trainable = False\n",
        "  x=keras.layers.Conv2D(64,3,activation='relu',padding='same')(base_model.output)\n",
        "  x=keras.layers.Conv2D(32,3,activation='relu',padding='same')(x)\n",
        "  x=keras.layers.Flatten()(x)\n",
        "  x=keras.layers.Dense(64,activation='relu')(x)\n",
        "  x=keras.layers.Dropout(0.5)(x)\n",
        "  x=keras.layers.Dense(32,activation='relu')(x)\n",
        "  x=keras.layers.Dense(16,activation='relu')(x)\n",
        "  x=keras.layers.Dense(1,activation='sigmoid')(x)\n",
        "  model=keras.models.Model(inputs=base_model.input,outputs=x)\n",
        "  return model\n",
        "# Load the dataset\n",
        "train_ds = tf.keras.preprocessing.image_dataset_from_directory(\n",
        "    data_dir,\n",
        "    image_size=(im_size, im_size),\n",
        "    batch_size=chunk_size,\n",
        "    validation_split=0.2,\n",
        "    seed=123,\n",
        "    subset=\"training\"\n",
        ")\n",
        "valid_ds = tf.keras.preprocessing.image_dataset_from_directory(\n",
        "  data_dir,\n",
        "  image_size=(im_size, im_size),\n",
        "  batch_size=chunk_size,\n",
        "  validation_split=0.2,\n",
        "  seed=123,\n",
        "  subset=\"validation\"\n",
        ")\n",
        "# Normalize the data between 0 and 1\n",
        "train_ds=train_ds.map(lambda x,y : (x/255.0,y))\n",
        "valid_ds=valid_ds.map(lambda x,y : (x/255.0,y))\n",
        "\n",
        "# model=keras.models.load_model(\"drive/MyDrive/violence_model\")\n",
        "# Define callbacks\n",
        "my_callback = [\n",
        "    keras.callbacks.EarlyStopping(monitor='val_accuracy', patience=5),\n",
        "    keras.callbacks.ModelCheckpoint(filepath='drive/MyDrive/violence_model', monitor='val_accuracy', save_best_only=True)\n",
        "]\n",
        "model = get_model()\n",
        "# Compile the model\n",
        "adam = keras.optimizers.Adam(learning_rate=0.0001)\n",
        "model.compile(optimizer=adam, loss=\"binary_crossentropy\", metrics=['accuracy'])\n",
        "\n",
        "# Train the model\n",
        "model.fit(train_ds,validation_data=valid_ds, epochs=50, callbacks=my_callback)\n"
      ]
    }
  ],
  "metadata": {
    "colab": {
      "provenance": [],
      "gpuType": "T4"
    },
    "kernelspec": {
      "display_name": "Python 3",
      "name": "python3"
    },
    "language_info": {
      "name": "python"
    },
    "accelerator": "GPU"
  },
  "nbformat": 4,
  "nbformat_minor": 0
}