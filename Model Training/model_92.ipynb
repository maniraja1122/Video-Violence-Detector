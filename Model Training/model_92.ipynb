{
  "cells": [
    {
      "cell_type": "markdown",
      "metadata": {
        "id": "4g65OZyN8_Kx"
      },
      "source": []
    },
    {
      "cell_type": "code",
      "execution_count": null,
      "metadata": {
        "colab": {
          "base_uri": "https://localhost:8080/"
        },
        "id": "PE3_3UBNhtto",
        "outputId": "5ef7226d-e293-43d6-86f9-4893b6bbc995"
      },
      "outputs": [
        {
          "output_type": "stream",
          "name": "stdout",
          "text": [
            "Found 11073 files belonging to 2 classes.\n",
            "Using 8859 files for training.\n",
            "Found 11073 files belonging to 2 classes.\n",
            "Using 2214 files for validation.\n",
            "Epoch 1/50\n",
            "277/277 [==============================] - 759s 3s/step - loss: 0.5485 - accuracy: 0.7067 - val_loss: 0.4037 - val_accuracy: 0.8261\n",
            "Epoch 2/50\n",
            "277/277 [==============================] - 123s 439ms/step - loss: 0.3356 - accuracy: 0.8524 - val_loss: 0.3057 - val_accuracy: 0.8753\n",
            "Epoch 3/50\n",
            "277/277 [==============================] - 134s 480ms/step - loss: 0.2435 - accuracy: 0.9008 - val_loss: 0.2695 - val_accuracy: 0.8911\n",
            "Epoch 4/50\n",
            "277/277 [==============================] - 124s 445ms/step - loss: 0.1872 - accuracy: 0.9249 - val_loss: 0.2304 - val_accuracy: 0.9047\n",
            "Epoch 5/50\n",
            "277/277 [==============================] - 134s 480ms/step - loss: 0.1493 - accuracy: 0.9439 - val_loss: 0.2287 - val_accuracy: 0.9015\n",
            "Epoch 6/50\n",
            "277/277 [==============================] - 125s 449ms/step - loss: 0.1213 - accuracy: 0.9547 - val_loss: 0.2310 - val_accuracy: 0.9124\n",
            "Epoch 7/50\n",
            "277/277 [==============================] - 134s 483ms/step - loss: 0.1047 - accuracy: 0.9616 - val_loss: 0.2305 - val_accuracy: 0.9137\n",
            "Epoch 8/50\n",
            "277/277 [==============================] - 124s 445ms/step - loss: 0.0810 - accuracy: 0.9714 - val_loss: 0.2614 - val_accuracy: 0.9110\n",
            "Epoch 9/50\n",
            "277/277 [==============================] - 126s 453ms/step - loss: 0.0619 - accuracy: 0.9798 - val_loss: 0.2321 - val_accuracy: 0.9178\n",
            "Epoch 10/50\n",
            "277/277 [==============================] - 134s 481ms/step - loss: 0.0596 - accuracy: 0.9799 - val_loss: 0.2589 - val_accuracy: 0.9151\n",
            "Epoch 11/50\n",
            "277/277 [==============================] - 126s 452ms/step - loss: 0.0473 - accuracy: 0.9852 - val_loss: 0.2515 - val_accuracy: 0.9201\n",
            "Epoch 12/50\n",
            "277/277 [==============================] - 134s 481ms/step - loss: 0.0342 - accuracy: 0.9914 - val_loss: 0.2584 - val_accuracy: 0.9182\n",
            "Epoch 13/50\n",
            "277/277 [==============================] - 125s 449ms/step - loss: 0.0309 - accuracy: 0.9898 - val_loss: 0.2818 - val_accuracy: 0.9160\n",
            "Epoch 14/50\n",
            "277/277 [==============================] - 134s 481ms/step - loss: 0.0459 - accuracy: 0.9844 - val_loss: 0.2696 - val_accuracy: 0.9133\n",
            "Epoch 15/50\n",
            "277/277 [==============================] - 125s 448ms/step - loss: 0.0363 - accuracy: 0.9886 - val_loss: 0.2940 - val_accuracy: 0.9110\n",
            "Epoch 16/50\n",
            "277/277 [==============================] - 125s 448ms/step - loss: 0.0392 - accuracy: 0.9862 - val_loss: 0.3041 - val_accuracy: 0.9133\n"
          ]
        },
        {
          "output_type": "execute_result",
          "data": {
            "text/plain": [
              "<keras.src.callbacks.History at 0x7ca75b99d210>"
            ]
          },
          "metadata": {},
          "execution_count": 10
        }
      ],
      "source": [
        "import tensorflow as tf\n",
        "from tensorflow import keras\n",
        "import numpy as np\n",
        "\n",
        "data_dir = \"drive/MyDrive/new_violence\"\n",
        "im_size = 416\n",
        "chunk_size = 32\n",
        "\n",
        "# Load the dataset\n",
        "train_ds = tf.keras.preprocessing.image_dataset_from_directory(\n",
        "    data_dir,\n",
        "    image_size=(im_size, im_size),\n",
        "    batch_size=chunk_size,\n",
        "    validation_split=0.2,\n",
        "    seed=123,\n",
        "    subset=\"training\"\n",
        ")\n",
        "valid_ds = tf.keras.preprocessing.image_dataset_from_directory(\n",
        "  data_dir,\n",
        "  image_size=(im_size, im_size),\n",
        "  batch_size=chunk_size,\n",
        "  validation_split=0.2,\n",
        "  seed=123,\n",
        "  subset=\"validation\"\n",
        ")\n",
        "# Normalize the data between 0 and 1\n",
        "train_ds=train_ds.map(lambda x,y : (x/255.0,y))\n",
        "valid_ds=valid_ds.map(lambda x,y : (x/255.0,y))\n",
        "# Define the model\n",
        "model = keras.Sequential([\n",
        "    keras.layers.Conv2D(128, 3, activation='tanh', input_shape=(im_size, im_size, 3), padding='same'),\n",
        "    keras.layers.MaxPooling2D(2),\n",
        "    keras.layers.Conv2D(64, 3, activation='tanh', padding='same'),\n",
        "    keras.layers.MaxPooling2D(2),\n",
        "    keras.layers.Conv2D(32, 3, activation='tanh', padding='same'),\n",
        "    keras.layers.MaxPooling2D(2),\n",
        "    keras.layers.Conv2D(16, 3, activation='tanh', padding='same'),\n",
        "    keras.layers.MaxPooling2D(2),\n",
        "    keras.layers.Conv2D(8, 3, activation='tanh', padding='same'),\n",
        "    keras.layers.Flatten(),\n",
        "    keras.layers.Dense(1, activation='sigmoid')\n",
        "])\n",
        "# model=keras.models.load_model(\"drive/MyDrive/violence_model\")\n",
        "# Define callbacks\n",
        "my_callback = [\n",
        "    keras.callbacks.EarlyStopping(monitor='val_accuracy', patience=5),\n",
        "    keras.callbacks.ModelCheckpoint(filepath='drive/MyDrive/violence_model', monitor='val_accuracy', save_best_only=True)\n",
        "]\n",
        "\n",
        "# Compile the model\n",
        "adam = keras.optimizers.Adam(learning_rate=0.001)\n",
        "model.compile(optimizer=adam, loss=\"binary_crossentropy\", metrics=['accuracy'])\n",
        "\n",
        "# Train the model\n",
        "model.fit(train_ds,validation_data=valid_ds, epochs=50, callbacks=my_callback)\n"
      ]
    }
  ],
  "metadata": {
    "colab": {
      "provenance": [],
      "gpuType": "T4"
    },
    "kernelspec": {
      "display_name": "Python 3",
      "name": "python3"
    },
    "language_info": {
      "name": "python"
    },
    "accelerator": "GPU"
  },
  "nbformat": 4,
  "nbformat_minor": 0
}